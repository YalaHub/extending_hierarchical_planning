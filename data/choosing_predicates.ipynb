{
 "cells": [
  {
   "cell_type": "code",
   "execution_count": 1,
   "metadata": {
    "collapsed": true
   },
   "outputs": [],
   "source": [
    "import numpy as np"
   ]
  },
  {
   "cell_type": "code",
   "execution_count": 12,
   "metadata": {
    "collapsed": false
   },
   "outputs": [],
   "source": [
    "############ Extract list of objects from 'valid_predicates.dictionary'\n",
    "\n",
    "objects={}\n",
    "f=open('valid_predicates.dictionary','r').read().split('\\n')\n",
    "for line in f:\n",
    "    words=line.split('|')\n",
    "    s=words[-1]\n",
    "    ob=s.split(' ')[-1]\n",
    "    objects[ob]=1\n",
    "objects=objects.keys()[1:]"
   ]
  },
  {
   "cell_type": "code",
   "execution_count": 13,
   "metadata": {
    "collapsed": false
   },
   "outputs": [
    {
     "name": "stdout",
     "output_type": "stream",
     "text": [
      "Last index used =  392\n"
     ]
    }
   ],
   "source": [
    "############ Create dictionary file with question-object \n",
    "\n",
    "ob_file = open(\"valid_questions_objects.dictionary\", \"w\")\n",
    "\n",
    "ind=336\n",
    "for ob in objects:\n",
    "    ob_file.write(str(ind)+\"|\"+\"0|\"+\"question 1 \"+ob+\"\\n\")\n",
    "    ind+=1\n",
    "\n",
    "ob_file.close()\n",
    "print \"Last index used = \",ind"
   ]
  },
  {
   "cell_type": "code",
   "execution_count": 14,
   "metadata": {
    "collapsed": true
   },
   "outputs": [],
   "source": [
    "############ Extract list of objects from 'valid_predicates.dictionary'\n",
    "\n",
    "actions={}\n",
    "f=open(\"../code/feature_computation/x/domain.pddl\",'r').read().split('(:action')\n",
    "for i in np.arange(1,len(f)):\n",
    "    sent=f[i]\n",
    "    action=sent.split('\\n')[0]\n",
    "    actions[action]=1\n",
    "actions=actions.keys()\n",
    "actions=[x[1:] for x in actions]"
   ]
  },
  {
   "cell_type": "code",
   "execution_count": 15,
   "metadata": {
    "collapsed": false
   },
   "outputs": [],
   "source": [
    "############ Create dictionary file with question-object \n",
    "\n",
    "ob_file = open(\"valid_questions_actions.dictionary\", \"w\")\n",
    "\n",
    "ind+=1\n",
    "for ob in actions:\n",
    "    ob_file.write(str(ind)+\"|\"+\"0|\"+\"question 0 \"+ob+\"\\n\")\n",
    "    ind+=1\n",
    "\n",
    "ob_file.close()"
   ]
  },
  {
   "cell_type": "code",
   "execution_count": 6,
   "metadata": {
    "collapsed": false
   },
   "outputs": [
    {
     "data": {
      "text/plain": [
       "56"
      ]
     },
     "execution_count": 6,
     "metadata": {},
     "output_type": "execute_result"
    }
   ],
   "source": [
    "len(objects)"
   ]
  },
  {
   "cell_type": "code",
   "execution_count": 7,
   "metadata": {
    "collapsed": false
   },
   "outputs": [
    {
     "data": {
      "text/plain": [
       "68"
      ]
     },
     "execution_count": 7,
     "metadata": {},
     "output_type": "execute_result"
    }
   ],
   "source": [
    "len(actions)"
   ]
  },
  {
   "cell_type": "code",
   "execution_count": null,
   "metadata": {
    "collapsed": true
   },
   "outputs": [],
   "source": []
  }
 ],
 "metadata": {
  "kernelspec": {
   "display_name": "Python 2",
   "language": "python",
   "name": "python2"
  },
  "language_info": {
   "codemirror_mode": {
    "name": "ipython",
    "version": 2
   },
   "file_extension": ".py",
   "mimetype": "text/x-python",
   "name": "python",
   "nbconvert_exporter": "python",
   "pygments_lexer": "ipython2",
   "version": "2.7.10"
  }
 },
 "nbformat": 4,
 "nbformat_minor": 0
}
