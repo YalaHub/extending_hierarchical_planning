{
 "cells": [
  {
   "cell_type": "code",
   "execution_count": 1,
   "metadata": {
    "collapsed": true
   },
   "outputs": [],
   "source": [
    "import numpy as np"
   ]
  },
  {
   "cell_type": "code",
   "execution_count": 9,
   "metadata": {
    "collapsed": false
   },
   "outputs": [],
   "source": [
    "############ Extract list of objects and actions and predicates\n",
    "\n",
    "import sys\n",
    "sys.path.insert(0, '../code/ir/')\n",
    "from vocab import *\n",
    "actions=A\n",
    "objects=O\n",
    "predicates=P"
   ]
  },
  {
   "cell_type": "code",
   "execution_count": 11,
   "metadata": {
    "collapsed": false
   },
   "outputs": [],
   "source": [
    "############ Create dictionary file with question-actions \n",
    "\n",
    "ob_file = open(\"valid_questions_actions.dictionary\", \"w\")\n",
    "\n",
    "ind+=1\n",
    "for ob in actions:\n",
    "    ob_file.write(str(ind)+\"|\"+\"0|\"+\"question 0 \"+ob+\"\\n\")\n",
    "    ind+=1\n",
    "\n",
    "ob_file.close()"
   ]
  },
  {
   "cell_type": "code",
   "execution_count": 10,
   "metadata": {
    "collapsed": false
   },
   "outputs": [
    {
     "name": "stdout",
     "output_type": "stream",
     "text": [
      "Last index used =  392\n"
     ]
    }
   ],
   "source": [
    "############ Create dictionary file with question-objects \n",
    "\n",
    "ob_file = open(\"valid_questions_objects.dictionary\", \"w\")\n",
    "\n",
    "ind=336\n",
    "for ob in objects:\n",
    "    ob_file.write(str(ind)+\"|\"+\"0|\"+\"question 1 \"+ob+\"\\n\")\n",
    "    ind+=1\n",
    "\n",
    "ob_file.close()\n",
    "print \"Last index used = \",ind"
   ]
  },
  {
   "cell_type": "code",
   "execution_count": 13,
   "metadata": {
    "collapsed": false
   },
   "outputs": [],
   "source": [
    "############ Create dictionary file with question-predicates \n",
    "\n",
    "ob_file = open(\"valid_questions_predicates.dictionary\", \"w\")\n",
    "\n",
    "ind+=1\n",
    "for ob in predicates:\n",
    "    ob_file.write(str(ind)+\"|\"+\"0|\"+\"question 2 \"+ob+\"\\n\")\n",
    "    ind+=1\n",
    "\n",
    "ob_file.close()"
   ]
  },
  {
   "cell_type": "code",
   "execution_count": null,
   "metadata": {
    "collapsed": true
   },
   "outputs": [],
   "source": []
  }
 ],
 "metadata": {
  "kernelspec": {
   "display_name": "Python 2",
   "language": "python",
   "name": "python2"
  },
  "language_info": {
   "codemirror_mode": {
    "name": "ipython",
    "version": 2
   },
   "file_extension": ".py",
   "mimetype": "text/x-python",
   "name": "python",
   "nbconvert_exporter": "python",
   "pygments_lexer": "ipython2",
   "version": "2.7.10"
  }
 },
 "nbformat": 4,
 "nbformat_minor": 0
}
