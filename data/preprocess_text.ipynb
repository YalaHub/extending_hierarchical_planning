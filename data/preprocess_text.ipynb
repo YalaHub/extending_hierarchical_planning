{
 "cells": [
  {
   "cell_type": "code",
   "execution_count": 70,
   "metadata": {
    "collapsed": false
   },
   "outputs": [],
   "source": [
    "import sys\n",
    "import numpy as np\n",
    "sys.path.insert(0, '../code/ir/')\n",
    "from vocab import *"
   ]
  },
  {
   "cell_type": "code",
   "execution_count": 71,
   "metadata": {
    "collapsed": false
   },
   "outputs": [],
   "source": [
    "objects = O.values() \n",
    "vocab = []\n",
    "[vocab.extend(x) for x in objects] ## Flatten the vocab array\n",
    "\n",
    "## Make into list where each elt is one word\n",
    "vocab = \" \".join(vocab) \n",
    "vocab = vocab.split(\" \")\n"
   ]
  },
  {
   "cell_type": "code",
   "execution_count": 72,
   "metadata": {
    "collapsed": false
   },
   "outputs": [],
   "source": [
    "def annotateForVocab(sentence):\n",
    "    annotation = \"\"\n",
    "    word_occurances = {}\n",
    "    words = sentence.split(\" \")\n",
    "    \n",
    "    ##Find occurances of vocab words\n",
    "    for index in range(len(words)):\n",
    "        word = words[index]\n",
    "        if word in vocab:\n",
    "            word_occurances[word] = str(index)\n",
    "    \n",
    "    ##Generate annotation\n",
    "    for i in range(len(word_occurances)):\n",
    "        for j in range(i+1,len(word_occurances)):\n",
    "            word_i, word_j = word_occurances.keys()[i],  word_occurances.keys()[j]\n",
    "            \n",
    "            #add forward connection\n",
    "            annotation += word_i+\":\"+word_occurances[word_i]+\"|\" \\\n",
    "                          + word_j + \":\"+ word_occurances[word_j] + \" \"\n",
    "\n",
    "            #add backward connection\n",
    "            annotation += word_j+\":\"+word_occurances[word_j]+\"|\" \\\n",
    "                          + word_i + \":\"+ word_occurances[word_i] + \" \"\n",
    "            \n",
    "    return annotation"
   ]
  },
  {
   "cell_type": "code",
   "execution_count": 76,
   "metadata": {
    "collapsed": false
   },
   "outputs": [],
   "source": [
    "f = open('noisy_minecraft_text.unprocessed', 'rw')\n",
    "o = open('noisy_minecraft_text_all_annotated.raw', 'w')\n",
    "\n",
    "index = 1801\n",
    "\n",
    "for line in f:\n",
    "    sentences = line.split('.')\n",
    "    sentences = [s.strip() for s in sentences if s.strip() != \"\"]\n",
    "        \n",
    "    for sentence in sentences:\n",
    "        annotation = annotateForVocab(sentence)\n",
    "        if annotation != \"\":\n",
    "            o.write(\"No.\"+str(index) + \"\\n\")\n",
    "            o.write(\"Connections: \" + annotation + \"\\n\")\n",
    "            o.write(\"Text: \" + sentence + \".\\n\")\n",
    "            o.write(\"\\n\")\n",
    "            index +=1\n",
    "o.flush()\n",
    "\n",
    "f.close()\n",
    "o.close()"
   ]
  },
  {
   "cell_type": "code",
   "execution_count": null,
   "metadata": {
    "collapsed": true
   },
   "outputs": [],
   "source": []
  }
 ],
 "metadata": {
  "kernelspec": {
   "display_name": "Python 2",
   "language": "python",
   "name": "python2"
  },
  "language_info": {
   "codemirror_mode": {
    "name": "ipython",
    "version": 2
   },
   "file_extension": ".py",
   "mimetype": "text/x-python",
   "name": "python",
   "nbconvert_exporter": "python",
   "pygments_lexer": "ipython2",
   "version": "2.7.11"
  }
 },
 "nbformat": 4,
 "nbformat_minor": 0
}
