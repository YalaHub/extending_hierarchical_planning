{
 "cells": [
  {
   "cell_type": "code",
   "execution_count": 1,
   "metadata": {
    "collapsed": true
   },
   "outputs": [],
   "source": [
    "import numpy as np"
   ]
  },
  {
   "cell_type": "code",
<<<<<<< HEAD
<<<<<<< HEAD
   "execution_count": 9,
=======
   "execution_count": 65,
>>>>>>> c136fb5... Adding question files
=======
   "execution_count": 9,
>>>>>>> 5e0ae48... Question file
   "metadata": {
    "collapsed": false
   },
   "outputs": [],
   "source": [
<<<<<<< HEAD
<<<<<<< HEAD
    "############ Extract list of objects and actions and predicates\n",
    "\n",
    "import sys\n",
    "sys.path.insert(0, '../code/ir/')\n",
    "from vocab import *\n",
    "actions=A\n",
    "objects=O\n",
    "predicates=P"
=======
    "############ Extract list of objects from 'valid_predicates.dictionary'\n",
    "\n",
    "objects={}\n",
    "f=open('valid_predicates.dictionary','r').read().split('\\n')\n",
    "for line in f:\n",
    "    words=line.split('|')\n",
    "    s=words[-1]\n",
    "    ob=s.split(' ')[-1]\n",
    "    objects[ob]=1\n",
    "objects=objects.keys()[1:]"
>>>>>>> c136fb5... Adding question files
=======
    "############ Extract list of objects and actions and predicates\n",
    "\n",
    "import sys\n",
    "sys.path.insert(0, '../code/ir/')\n",
    "from vocab import *\n",
    "actions=A\n",
    "objects=O\n",
    "predicates=P"
>>>>>>> 5e0ae48... Question file
   ]
  },
  {
   "cell_type": "code",
<<<<<<< HEAD
<<<<<<< HEAD
=======
>>>>>>> 5e0ae48... Question file
   "execution_count": 11,
   "metadata": {
    "collapsed": false
   },
   "outputs": [],
   "source": [
    "############ Create dictionary file with question-actions \n",
    "\n",
    "ob_file = open(\"valid_questions_actions.dictionary\", \"w\")\n",
    "\n",
    "ind+=1\n",
    "for ob in actions:\n",
    "    ob_file.write(str(ind)+\"|\"+\"0|\"+\"question 0 \"+ob+\"\\n\")\n",
    "    ind+=1\n",
    "\n",
    "ob_file.close()"
   ]
  },
  {
   "cell_type": "code",
   "execution_count": 10,
<<<<<<< HEAD
=======
   "execution_count": 66,
>>>>>>> c136fb5... Adding question files
=======
>>>>>>> 5e0ae48... Question file
   "metadata": {
    "collapsed": false
   },
   "outputs": [
    {
     "name": "stdout",
     "output_type": "stream",
     "text": [
      "Last index used =  392\n"
     ]
    }
   ],
   "source": [
<<<<<<< HEAD
<<<<<<< HEAD
    "############ Create dictionary file with question-objects \n",
=======
    "############ Create dictionary file with question-object \n",
>>>>>>> c136fb5... Adding question files
=======
    "############ Create dictionary file with question-objects \n",
>>>>>>> 5e0ae48... Question file
    "\n",
    "ob_file = open(\"valid_questions_objects.dictionary\", \"w\")\n",
    "\n",
    "ind=336\n",
    "for ob in objects:\n",
<<<<<<< HEAD
<<<<<<< HEAD
    "    ob_file.write(str(ind)+\"|\"+\"0|\"+\"question 1 \"+ob+\"\\n\")\n",
=======
    "    ob_file.write(str(ind)+\"|\"+\"1|\"+\"question object \"+ob+\"\\n\")\n",
>>>>>>> c136fb5... Adding question files
=======
    "    ob_file.write(str(ind)+\"|\"+\"0|\"+\"question 1 \"+ob+\"\\n\")\n",
>>>>>>> 5e0ae48... Question file
    "    ind+=1\n",
    "\n",
    "ob_file.close()\n",
    "print \"Last index used = \",ind"
   ]
  },
  {
   "cell_type": "code",
<<<<<<< HEAD
<<<<<<< HEAD
   "execution_count": 13,
=======
   "execution_count": 67,
   "metadata": {
    "collapsed": true
   },
   "outputs": [],
   "source": [
    "############ Extract list of objects from 'valid_predicates.dictionary'\n",
    "\n",
    "actions={}\n",
    "f=open(\"../code/feature_computation/x/domain.pddl\",'r').read().split('(:action')\n",
    "for i in np.arange(1,len(f)):\n",
    "    sent=f[i]\n",
    "    action=sent.split('\\n')[0]\n",
    "    actions[action]=1\n",
    "actions=actions.keys()\n",
    "actions=[x[1:] for x in actions]"
   ]
  },
  {
   "cell_type": "code",
   "execution_count": 68,
>>>>>>> c136fb5... Adding question files
=======
   "execution_count": 13,
>>>>>>> 5e0ae48... Question file
   "metadata": {
    "collapsed": false
   },
   "outputs": [],
   "source": [
<<<<<<< HEAD
<<<<<<< HEAD
    "############ Create dictionary file with question-predicates \n",
    "\n",
    "ob_file = open(\"valid_questions_predicates.dictionary\", \"w\")\n",
    "\n",
    "ind+=1\n",
    "for ob in predicates:\n",
    "    ob_file.write(str(ind)+\"|\"+\"0|\"+\"question 2 \"+ob+\"\\n\")\n",
=======
    "############ Create dictionary file with question-object \n",
=======
    "############ Create dictionary file with question-predicates \n",
>>>>>>> 5e0ae48... Question file
    "\n",
    "ob_file = open(\"valid_questions_predicates.dictionary\", \"w\")\n",
    "\n",
    "ind+=1\n",
<<<<<<< HEAD
    "for ob in actions:\n",
    "    ob_file.write(str(ind)+\"|\"+\"1|\"+\"question action \"+ob+\"\\n\")\n",
>>>>>>> c136fb5... Adding question files
=======
    "for ob in predicates:\n",
    "    ob_file.write(str(ind)+\"|\"+\"0|\"+\"question 2 \"+ob+\"\\n\")\n",
>>>>>>> 5e0ae48... Question file
    "    ind+=1\n",
    "\n",
    "ob_file.close()"
   ]
  },
  {
   "cell_type": "code",
   "execution_count": null,
   "metadata": {
    "collapsed": true
   },
   "outputs": [],
   "source": []
  }
 ],
 "metadata": {
  "kernelspec": {
   "display_name": "Python 2",
   "language": "python",
   "name": "python2"
  },
  "language_info": {
   "codemirror_mode": {
    "name": "ipython",
    "version": 2
   },
   "file_extension": ".py",
   "mimetype": "text/x-python",
   "name": "python",
   "nbconvert_exporter": "python",
   "pygments_lexer": "ipython2",
   "version": "2.7.10"
  }
 },
 "nbformat": 4,
 "nbformat_minor": 0
}
