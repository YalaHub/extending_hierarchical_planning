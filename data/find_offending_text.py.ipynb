{
 "cells": [
  {
   "cell_type": "code",
   "execution_count": 2,
   "metadata": {
    "collapsed": true,
    "scrolled": true
   },
   "outputs": [],
   "source": [
    "import sys"
   ]
  },
  {
   "cell_type": "code",
   "execution_count": null,
   "metadata": {
    "collapsed": true,
    "scrolled": true
   },
   "outputs": [],
   "source": []
  },
  {
   "cell_type": "code",
   "execution_count": 3,
   "metadata": {
    "collapsed": false,
    "scrolled": true
   },
   "outputs": [],
   "source": [
    "def readAnnotationFile():\n",
    "    lines = []\n",
    "    with open('minecraft_text_concat.raw', 'r') as fp:\n",
    "        for line in fp:\n",
    "            if line[:6].strip() == \"Text:\":\n",
    "                text = line[6:]\n",
    "                bagOfWords = set([clean(word) for word in text.split(\" \") if clean(word).isalpha()])\n",
    "                lines.append((text,bagOfWords)) \n",
    "    return lines"
   ]
  },
  {
   "cell_type": "code",
   "execution_count": 4,
   "metadata": {
    "collapsed": false
   },
   "outputs": [],
   "source": [
    "def clean(token):\n",
    "    token = token.strip()\n",
    "    res = []\n",
    "    [res.append(x) for x in token if not x in [\"(\",\")\", \".\", \",\", \"-\", \":\", \"!\"]]\n",
    "    res = \"\".join(res)\n",
    "    if res[-2:] == \"'s\":\n",
    "        res = res[0:-2]\n",
    "    return res\n"
   ]
  },
  {
   "cell_type": "code",
   "execution_count": 5,
   "metadata": {
    "collapsed": true
   },
   "outputs": [],
   "source": [
    "def processParse(buf, lines):\n",
    "    bagOfWords = set()\n",
    "    for s in buf:\n",
    "        if s != \"\" and s[0] == \"(\" and \")\" in s:\n",
    "            s = s.split(\" \")\n",
    "            s = [clean(x) for x in s if not x.isupper()]\n",
    "            s = [x for x in s if x.isalpha()]\n",
    "            bagOfWords.update(s)\n",
    "    lines.append(bagOfWords)"
   ]
  },
  {
   "cell_type": "code",
   "execution_count": 6,
   "metadata": {
    "collapsed": false,
    "scrolled": true
   },
   "outputs": [],
   "source": [
    "def readParseFile():\n",
    "    tags = \"ROOT\"\n",
    "    lines = []\n",
    "    with open('minecraft_text_concat.parsed', 'r') as fp:\n",
    "        buf = []\n",
    "        for line in fp:\n",
    "            s = line.strip()\n",
    "            if(s == \"(ROOT\"):\n",
    "                if buf != []:\n",
    "                    processParse(buf, lines)\n",
    "                    buf = []\n",
    "            else:\n",
    "                if True:\n",
    "                    True\n",
    "                buf.append(s)\n",
    "        \n",
    "        if buf != []:\n",
    "            processParse(buf, lines)\n",
    "    return lines"
   ]
  },
  {
   "cell_type": "code",
   "execution_count": 8,
   "metadata": {
    "collapsed": false,
    "scrolled": true
   },
   "outputs": [
    {
     "name": "stdout",
     "output_type": "stream",
     "text": [
      "[\"If you can't get enough wool for a bed , your best bets are (first choice) either get far away (150 blocks or so) from the village before nightfall , or (second best) to spend your first night(s) atop a really tall pillar , 40 blocks high or more (64 is even better) .\\n\", \"A stone pickaxe is more durable and more efficient than a wooden pickaxe , and it can mine ores that a wooden pickaxe can't .\\n\", \"If you can't get enough wool for a bed , your best bets are (first choice) either get far away (150 blocks or so) from the village before nightfall , or (second best) to spend your first night(s) atop a really tall pillar , 40 blocks high or more (64 is even better) .\\n\", \"A stone pickaxe is more durable and more efficient than a wooden pickaxe , and it can mine ores that a wooden pickaxe can't .\\n\", 'If you have wood to spare , you can craft a wooden door : .\\n', 'Keep your stone sword in hand and whack them as soon as they come into reach , before they get up to you - attacking them will knock them back down .\\n', 'You can also simply build a three block high hut from any material , for example cobblestone , wood or dirt .\\n', 'Some natural extensions include a back door , windows , a surrounding fence , and even traps for monsters .\\n', 'Extreme Hills biomes will have caves inside mountains , but these are generally not what you want , because only coal ore will appear above sea level (Y=64) .\\n', 'This is the only ore that appears above sea level (anywhere there is stone) , and it is often visible in stone outcrops on the surface or even on mountains .\\n', 'Gather as much of it as possible , but it needs a stone pickaxe or better to mine it , so be careful not to use a wooden pick on it .\\n', 'Once you have some iron ore , make a furnace to smelt it into iron ingots , that you can then craft into other items .\\n', 'First of all craft a pickaxe , a sword , and a bucket (fill it with water) , then craft iron armor .\\n', 'If you have extra , go on to make shears , another bucket (to hold a second water source or stray lava) , and perhaps an iron shovel or other tools .\\n', 'Gold and redstone need an iron pickaxe to mine .\\n', '(Lapis can be mined with a stone pickaxe .\\n', 'Once you find some sugar cane , you can add a map (paper+compass) to keep track of your explorations and help avoid getting lost .\\n', 'The ore can be found at the very bottom of the world , the bottom 15 layers of the map , and requires an iron pickaxe to mine .\\n', 'Emerald ore is found at the same depths as gold ore , and likewise requires an iron pickaxe .\\n', 'Collect more wood , coal , and iron for crafting .\\n', 'You need this for bows , fishing rods , and leads .\\n', \"If you still haven't found sheep , 12 string can be crafted into the 3 wool you need for a bed .\\n\", 'Gather sugar cane for maps and books (you will also need iron and redstone for maps , and leather for books) .\\n', \"Cows , mooshrooms , and sheep eat wheat , pigs eat carrots (you probably won't have these at first) , and chickens eat seeds (you've probably picked some up already from breaking grass) .\\n\", \"Fishing will be about 20% faster when it's raining , and fishing will occasionally get you saddles and name tags (otherwise quite hard to find) , along with extra bits of leather and string\\xe2\\x80\\xa6 not to mention enchanted fishing rods .\\n\", ') Add a few fences for safety , optionally a roof (lightning is unlikely to hit you , but it does happen) , and you have a nice secure spot to fish from , even during thunderstorms and at night .\\n', 'Food is not required , but can help , and any of several foods will do , but wheat or bread is probably easiest .\\n', \"f you read the Beginner's Guide and followed it you should have at least a hole in a hill with about 2 torches , a workbench , and a worn-down wooden pickaxe .\\n\", 'Begin by mining some stone with your pickaxe .\\n', 'You should craft a stone pickaxe because it mines faster and has more durability .\\n', 'When you mine a stone block , it should drop a crumbly block called cobblestone .\\n', 'You can also use cobblestone to make stone weapons and tools .\\n', 'You can make a stone pickaxe by replacing the wooden planks with cobblestone when making a pickaxe .\\n', 'Most players find it helpful to bring food , wood , coal , torches , a sword and a water bucket .\\n', \"Also , it's a good idea to bring iron pickaxes instead of stone pickaxes , if you can spare the iron .\\n\", \"With the vast amount of iron that is in the world , you are likely to find an iron pickaxe will more than make up for itself in terms of iron mined , if you use a stone pickaxe it goes by slowly , so in theory you are wasting iron if you don't use an iron pickaxe .\\n\", 'When you obtain a diamond pickaxe you should use it till it breaks , its the same argument as iron .\\n', 'Although , there is considerably less diamond than iron , diamond on average spawning less than once per chunk , a diamond pickaxe should more than make up for itself when you mine for strictly for diamond .\\n', 'If you keep losing your way , try marking your path with torches or a unique entity , such as signs or birch planks .\\n', 'Carving out a safe room containing furnaces , a crafting table , a bed and a chest might be worth your time .\\n', 'Be careful where you place rails , and you may want to protect some of them with fences or even stone .\\n', 'Even shallow caves will offer plenty of coal and iron , and later gold and other ores .\\n', 'Caves offer the advantage that a great deal of stone has already been excavated for you , exposing many ore veins .\\n', 'It is a good idea to mine everything out including coal as you never know when you might be lost and need more torches .\\n', 'Cave mining has a high return on investment , yielding more ore per time spent and requiring fewer tools (less pickaxe and shovel durability is lost mining stone , dirt , and gravel) than other approaches .\\n', 'A bucket of water serves as both a fire extinguisher , if you fall in ; and as a way to form obsidian surfaces over lava pools (pour water onto a solid block adjacent to a lava pool ; do not stand between that spot and the lava) .\\n', 'If it is your first mining trip , mine some cobblestone and make a stone pickaxe .\\n', 'If you are further along in the game , and expect to mine for a while , bring two iron pickaxes and at least 12 stone pickaxes .\\n', 'If you prefer to save valuable materials , take a few stone pickaxes for mining stone and one iron pickaxe only for mining ores .\\n', 'Having at least one iron shovel can get through cumbersome patches of dirt and gravel quickly without using your hands .\\n', 'Just one or two stone shovels also works if you want to use your iron for other things .\\n', 'If you run out of tools or torches , you can make a crafting table and sticks to replenish your supplies of pickaxes , shovels , and torches (you can get more coal for them from mining) .\\n', \"A spare bucket is useful for collecting lava to use as fuel in a furnace , to block or slaughter monsters (you'll lose most of their drops) , or just to get the lava out of your way .\\n\", 'If there are mushrooms present , you might carry or make a bowl to make mushroom stew .\\n', 'In general , you want at least iron armor \\xe2\\x80\\x94 if necessary , you can smelt ore and craft your armor in the caves .\\n', \"Chests are invaluable when exploring lava caves since you can store your items in case you die ; instead of losing a whole stack of iron and half a stack of gold along with all of your food and weapons , you can drop a chest and a crafting table nearby , and lose only your current tools and whatever you hadn't stashed yet .\\n\", 'You can create an underground tree farm to replenish your supply of wood and a small wheat farm to continuously grow wheat for bread , allowing you to stay underground for an infinite period of time .\\n']\n"
     ]
    }
   ],
   "source": [
    "annotationLines = readAnnotationFile()\n",
    "parseLines = readParseFile()\n",
    "\n",
    "offenders = []\n",
    "for i in range(len(annotationLines) -1):\n",
    "    text, bag = annotationLines[i]\n",
    "    parseBag = parseLines[i]\n",
    "    if not bag.difference(parseBag) == set([]):\n",
    "#         print \"OFFENDER FOUND AT INDEX \", i\n",
    "#         print \"Sentence is:\"\n",
    "#         print text\n",
    "#         print \"Annotation bag is:\"\n",
    "#         print bag\n",
    "#         print \"parse bag is:\"\n",
    "#         print parseBag\n",
    "#         print \"Difference is:\"\n",
    "#         print bag.difference(parseBag)\n",
    "#         print \"aka\"\n",
    "#         print parseBag.difference(bag)\n",
    "        offenders.append(text)\n",
    "print offenders\n"
   ]
  },
  {
   "cell_type": "code",
   "execution_count": 11,
   "metadata": {
    "collapsed": false
   },
   "outputs": [
    {
     "name": "stdout",
     "output_type": "stream",
     "text": [
      "57\n",
      "A stone pickaxe is more durable and more efficient than a wooden pickaxe , and it can mine ores that a wooden pickaxe can't .\n",
      "\n"
     ]
    }
   ],
   "source": [
    "print len(offenders)\n",
    "print offenders[1]"
   ]
  },
  {
   "cell_type": "code",
   "execution_count": null,
   "metadata": {
    "collapsed": true
   },
   "outputs": [],
   "source": []
  },
  {
   "cell_type": "code",
   "execution_count": null,
   "metadata": {
    "collapsed": true
   },
   "outputs": [],
   "source": []
  }
 ],
 "metadata": {
  "kernelspec": {
   "display_name": "Python 2",
   "language": "python",
   "name": "python2"
  },
  "language_info": {
   "codemirror_mode": {
    "name": "ipython",
    "version": 2
   },
   "file_extension": ".py",
   "mimetype": "text/x-python",
   "name": "python",
   "nbconvert_exporter": "python",
   "pygments_lexer": "ipython2",
   "version": "2.7.11"
  }
 },
 "nbformat": 4,
 "nbformat_minor": 0
}
