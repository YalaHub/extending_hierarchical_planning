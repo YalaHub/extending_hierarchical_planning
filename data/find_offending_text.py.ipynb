{
 "cells": [
  {
   "cell_type": "code",
   "execution_count": 102,
   "metadata": {
    "collapsed": true,
    "scrolled": true
   },
   "outputs": [],
   "source": [
    "import sys"
   ]
  },
  {
   "cell_type": "code",
   "execution_count": null,
   "metadata": {
    "collapsed": true,
    "scrolled": true
   },
   "outputs": [],
   "source": []
  },
  {
   "cell_type": "code",
   "execution_count": 149,
   "metadata": {
    "collapsed": false,
    "scrolled": true
   },
   "outputs": [],
   "source": [
    "def readAnnotationFile():\n",
    "    lines = []\n",
    "    with open('minecraft_text_concat.raw', 'r') as fp:\n",
    "        for line in fp:\n",
    "            if line[:6].strip() == \"Text:\":\n",
    "                text = line[6:]\n",
    "                bagOfWords = set([clean(word) for word in text.split(\" \") if clean(word).isalpha()])\n",
    "                lines.append((text,bagOfWords)) \n",
    "    return lines"
   ]
  },
  {
   "cell_type": "code",
   "execution_count": 160,
   "metadata": {
    "collapsed": false
   },
   "outputs": [],
   "source": [
    "def clean(token):\n",
    "    token = token.strip()\n",
    "    res = []\n",
    "    [res.append(x) for x in token if not x in [\"(\",\")\", \".\", \",\", \"-\", \":\", \"!\"]]\n",
    "    res = \"\".join(res)\n",
    "    if res[-2:] == \"'s\":\n",
    "        res = res[0:-2]\n",
    "    return res\n"
   ]
  },
  {
   "cell_type": "code",
   "execution_count": 142,
   "metadata": {
    "collapsed": true
   },
   "outputs": [],
   "source": [
    "def processParse(buf, lines):\n",
    "    bagOfWords = set()\n",
    "    for s in buf:\n",
    "        if s != \"\" and s[0] == \"(\" and \")\" in s:\n",
    "            s = s.split(\" \")\n",
    "            s = [clean(x) for x in s if not x.isupper()]\n",
    "            s = [x for x in s if x.isalpha()]\n",
    "            bagOfWords.update(s)\n",
    "    lines.append(bagOfWords)"
   ]
  },
  {
   "cell_type": "code",
   "execution_count": 143,
   "metadata": {
    "collapsed": false,
    "scrolled": true
   },
   "outputs": [],
   "source": [
    "def readParseFile():\n",
    "    tags = \"ROOT\"\n",
    "    lines = []\n",
    "    with open('minecraft_text_concat.parsed', 'r') as fp:\n",
    "        buf = []\n",
    "        for line in fp:\n",
    "            s = line.strip()\n",
    "            if(s == \"(ROOT\"):\n",
    "                if buf != []:\n",
    "                    processParse(buf, lines)\n",
    "                    buf = []\n",
    "            else:\n",
    "                if True:\n",
    "                    True\n",
    "                buf.append(s)\n",
    "        \n",
    "        if buf != []:\n",
    "            processParse(buf, lines)\n",
    "    return lines"
   ]
  },
  {
   "cell_type": "code",
   "execution_count": 161,
   "metadata": {
    "collapsed": false,
    "scrolled": true
   },
   "outputs": [
    {
     "name": "stdout",
     "output_type": "stream",
     "text": [
      "OFFENDER FOUND AT INDEX  262\n",
      "Sentence is:\n",
      "You'll punch more wood in a moment! Wood is essential for tools and useful items such as torches, doors, fences, and chests.\n",
      "\n",
      "Annotation bag is:\n",
      "set(['a', 'and', 'useful', 'for', 'items', 'is', 'Wood', 'punch', 'fences', 'chests', 'moment', 'wood', 'torches', 'doors', 'in', 'such', 'tools', 'essential', 'as', 'more'])\n",
      "parse bag is:\n",
      "set(['a', 'punch', 'moment', 'wood', 'in', 'You', 'more'])\n",
      "Difference is:\n",
      "set(['and', 'useful', 'for', 'items', 'is', 'chests', 'as', 'Wood', 'tools', 'doors', 'such', 'torches', 'fences', 'essential'])\n",
      "aka\n",
      "set(['You'])\n"
     ]
    }
   ],
   "source": [
    "annotationLines = readAnnotationFile()\n",
    "parseLines = readParseFile()\n",
    "\n",
    "for i in range(len(annotationLines)):\n",
    "    text, bag = annotationLines[i]\n",
    "    parseBag = parseLines[i]\n",
    "    if not bag.difference(parseBag) == set([]):\n",
    "        print \"OFFENDER FOUND AT INDEX \", i\n",
    "        print \"Sentence is:\"\n",
    "        print text\n",
    "        print \"Annotation bag is:\"\n",
    "        print bag\n",
    "        print \"parse bag is:\"\n",
    "        print parseBag\n",
    "        print \"Difference is:\"\n",
    "        print bag.difference(parseBag)\n",
    "        print \"aka\"\n",
    "        print parseBag.difference(bag)\n",
    "        break;\n"
   ]
  },
  {
   "cell_type": "code",
   "execution_count": null,
   "metadata": {
    "collapsed": true
   },
   "outputs": [],
   "source": []
  },
  {
   "cell_type": "code",
   "execution_count": null,
   "metadata": {
    "collapsed": true
   },
   "outputs": [],
   "source": []
  },
  {
   "cell_type": "code",
   "execution_count": null,
   "metadata": {
    "collapsed": true
   },
   "outputs": [],
   "source": []
  }
 ],
 "metadata": {
  "kernelspec": {
   "display_name": "Python 2",
   "language": "python",
   "name": "python2"
  },
  "language_info": {
   "codemirror_mode": {
    "name": "ipython",
    "version": 2
   },
   "file_extension": ".py",
   "mimetype": "text/x-python",
   "name": "python",
   "nbconvert_exporter": "python",
   "pygments_lexer": "ipython2",
   "version": "2.7.11"
  }
 },
 "nbformat": 4,
 "nbformat_minor": 0
}
