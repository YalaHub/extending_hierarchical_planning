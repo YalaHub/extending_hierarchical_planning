{
 "cells": [
  {
   "cell_type": "markdown",
   "metadata": {},
   "source": [
    "# Testing the parsing method"
   ]
  },
  {
   "cell_type": "code",
   "execution_count": 1,
   "metadata": {
    "collapsed": false
   },
   "outputs": [],
   "source": [
    "import sys\n",
    "sys.path.append('../')\n",
    "from ir import BagOfWords\n",
    "from feature_computation.Sentence import ReadSentencesFromTextFileSimple"
   ]
  },
  {
   "cell_type": "code",
   "execution_count": 2,
   "metadata": {
    "collapsed": true
   },
   "outputs": [],
   "source": [
    "sSentenceFile = '../../data/minecraft_text.raw'\n",
    "lSentences = ReadSentencesFromTextFileSimple(sSentenceFile)"
   ]
  },
  {
   "cell_type": "code",
   "execution_count": 3,
   "metadata": {
    "collapsed": false
   },
   "outputs": [],
   "source": [
    "sentences = [sentence.lWords for sentence in lSentences]"
   ]
  },
  {
   "cell_type": "code",
   "execution_count": 4,
   "metadata": {
    "collapsed": false
   },
   "outputs": [],
   "source": [
    "ids = [sentence.iIndex for sentence in lSentences]"
   ]
  },
  {
   "cell_type": "code",
   "execution_count": 5,
   "metadata": {
    "collapsed": false
   },
   "outputs": [],
   "source": [
    "bags = BagOfWords(sentences, ids)"
   ]
  },
  {
   "cell_type": "code",
   "execution_count": 6,
   "metadata": {
    "collapsed": false
   },
   "outputs": [],
   "source": [
    "# Run BagOfWords passing the sentences and the ids\n",
    "sentences = [sentence.lWords for sentence in lSentences]\n",
    "ids = [sentence.iIndex for sentence in lSentences]\n",
    "bags = BagOfWords(sentences, ids)"
   ]
  },
  {
   "cell_type": "code",
   "execution_count": 38,
   "metadata": {
    "collapsed": true
   },
   "outputs": [],
   "source": [
    "question = 'furnace-fish'"
   ]
  },
  {
   "cell_type": "code",
   "execution_count": 10,
   "metadata": {
    "collapsed": true
   },
   "outputs": [],
   "source": [
    "question = 'cook'"
   ]
  },
  {
   "cell_type": "code",
   "execution_count": 13,
   "metadata": {
    "collapsed": false
   },
   "outputs": [
    {
     "name": "stdout",
     "output_type": "stream",
     "text": [
      "parsed= ['cook']\n",
      "mushroom stew restores the same amount of food points as steak and cooked porkchops while not being dependent on the presence of animals or requiring a furnace , fuel , and time to cook .\n"
     ]
    }
   ],
   "source": [
    "# Random tests\n",
    "print bags.question(\"object\", question)[0][1]"
   ]
  },
  {
   "cell_type": "code",
   "execution_count": 30,
   "metadata": {
    "collapsed": false
   },
   "outputs": [
    {
     "name": "stdout",
     "output_type": "stream",
     "text": [
      "parsed= ['furnace']\n"
     ]
    }
   ],
   "source": [
    "w1 = bags.question(\"object\", \"furnace\")"
   ]
  },
  {
   "cell_type": "code",
   "execution_count": 31,
   "metadata": {
    "collapsed": false
   },
   "outputs": [
    {
     "name": "stdout",
     "output_type": "stream",
     "text": [
      "parsed= ['fish']\n"
     ]
    }
   ],
   "source": [
    "w2 = bags.question(\"object\", \"fish\")"
   ]
  },
  {
   "cell_type": "code",
   "execution_count": 33,
   "metadata": {
    "collapsed": false
   },
   "outputs": [
    {
     "ename": "AttributeError",
     "evalue": "type object 'set' has no attribute 'intersect'",
     "output_type": "error",
     "traceback": [
      "\u001b[0;31m---------------------------------------------------------------------------\u001b[0m",
      "\u001b[0;31mAttributeError\u001b[0m                            Traceback (most recent call last)",
      "\u001b[0;32m<ipython-input-33-bafa9304adae>\u001b[0m in \u001b[0;36m<module>\u001b[0;34m()\u001b[0m\n\u001b[0;32m----> 1\u001b[0;31m \u001b[0mset\u001b[0m\u001b[0;34m.\u001b[0m\u001b[0mintersect\u001b[0m\u001b[0;34m(\u001b[0m\u001b[0mw1\u001b[0m\u001b[0;34m,\u001b[0m\u001b[0mw2\u001b[0m\u001b[0;34m)\u001b[0m\u001b[0;34m\u001b[0m\u001b[0m\n\u001b[0m",
      "\u001b[0;31mAttributeError\u001b[0m: type object 'set' has no attribute 'intersect'"
     ]
    }
   ],
   "source": [
    "set.intersect(w1,w2)"
   ]
  },
  {
   "cell_type": "code",
   "execution_count": 54,
   "metadata": {
    "collapsed": true
   },
   "outputs": [],
   "source": [
    "from vocab import P, O, A\n",
    "import copy"
   ]
  },
  {
   "cell_type": "code",
   "execution_count": 53,
   "metadata": {
    "collapsed": true
   },
   "outputs": [],
   "source": [
    "vocab = P | O | A"
   ]
  },
  {
   "cell_type": "code",
   "execution_count": 56,
   "metadata": {
    "collapsed": false
   },
   "outputs": [],
   "source": [
    "new_vocab=copy.copy(vocab)\n",
    "for w in vocab:\n",
    "    if len(w.split(\"-\"))>1:\n",
    "        for sub_w in w.split(\"-\"):\n",
    "            new_vocab.add(sub_w)"
   ]
  },
  {
   "cell_type": "code",
   "execution_count": 57,
   "metadata": {
    "collapsed": false
   },
   "outputs": [
    {
     "data": {
      "text/plain": [
       "{'1',\n",
       " '2',\n",
       " 'at',\n",
       " 'axe',\n",
       " 'bed',\n",
       " 'bone',\n",
       " 'bonemeal',\n",
       " 'bowl',\n",
       " 'bread',\n",
       " 'brick',\n",
       " 'brick-stairs',\n",
       " 'brown',\n",
       " 'brown-mushroom',\n",
       " 'bucket',\n",
       " 'change',\n",
       " 'change-harvest-loc',\n",
       " 'change-harvest-tool',\n",
       " 'charcoal',\n",
       " 'chest',\n",
       " 'clay',\n",
       " 'clayblock',\n",
       " 'claybrick',\n",
       " 'coal',\n",
       " 'connect',\n",
       " 'cook',\n",
       " 'cookedfish',\n",
       " 'craft',\n",
       " 'craft-bed',\n",
       " 'craft-bonemeal',\n",
       " 'craft-bowl',\n",
       " 'craft-brick',\n",
       " 'craft-brick-stairs',\n",
       " 'craft-bucket',\n",
       " 'craft-chest',\n",
       " 'craft-clayblock',\n",
       " 'craft-empty',\n",
       " 'craft-fence',\n",
       " 'craft-fishingrod',\n",
       " 'craft-furnace',\n",
       " 'craft-glasspane',\n",
       " 'craft-iron-door',\n",
       " 'craft-ironbar',\n",
       " 'craft-ladder',\n",
       " 'craft-sandstone',\n",
       " 'craft-shears',\n",
       " 'craft-stone-brick',\n",
       " 'craft-stone-stairs',\n",
       " 'craft-stonebrick-stairs',\n",
       " 'craft-torch',\n",
       " 'craft-wood-axe',\n",
       " 'craft-wood-door',\n",
       " 'craft-wood-hoe',\n",
       " 'craft-wood-pickaxe',\n",
       " 'craft-wood-plank',\n",
       " 'craft-wood-shovel',\n",
       " 'craft-wood-stairs',\n",
       " 'craft-wood-stick',\n",
       " 'crafting',\n",
       " 'cut',\n",
       " 'cut-sugarcane',\n",
       " 'door',\n",
       " 'egg',\n",
       " 'empty',\n",
       " 'farmland',\n",
       " 'fence',\n",
       " 'fire',\n",
       " 'fish',\n",
       " 'fishingrod',\n",
       " 'fornace',\n",
       " 'fornace-fuel',\n",
       " 'fuel',\n",
       " 'furnace',\n",
       " 'furnace-cook-fish',\n",
       " 'furnace-fire-brick',\n",
       " 'furnace-make-charcoal',\n",
       " 'furnace-make-glass',\n",
       " 'furnace-smelt-iron',\n",
       " 'get',\n",
       " 'get-harvest-bone',\n",
       " 'get-harvest-brown-mushroom',\n",
       " 'get-harvest-clay',\n",
       " 'get-harvest-coal',\n",
       " 'get-harvest-egg',\n",
       " 'get-harvest-fish',\n",
       " 'get-harvest-ironore',\n",
       " 'get-harvest-milk',\n",
       " 'get-harvest-red-mushroom',\n",
       " 'get-harvest-sand',\n",
       " 'get-harvest-sandstone',\n",
       " 'get-harvest-seeds',\n",
       " 'get-harvest-stone',\n",
       " 'get-harvest-string',\n",
       " 'get-harvest-sugarcane',\n",
       " 'get-harvest-wheat',\n",
       " 'get-harvest-wood',\n",
       " 'get-harvest-wool',\n",
       " 'glass',\n",
       " 'glasspane',\n",
       " 'grow',\n",
       " 'grow-tallgrass',\n",
       " 'grow-wheatgrass',\n",
       " 'hand',\n",
       " 'harvest',\n",
       " 'harvest-loose-tool',\n",
       " 'hoe',\n",
       " 'iron',\n",
       " 'iron-door',\n",
       " 'ironbar',\n",
       " 'ironore',\n",
       " 'ladder',\n",
       " 'loc',\n",
       " 'loose',\n",
       " 'make',\n",
       " 'make-bread',\n",
       " 'make-farmland',\n",
       " 'make-mushroomstew-1',\n",
       " 'make-mushroomstew-2',\n",
       " 'make-paper',\n",
       " 'make-sugar',\n",
       " 'make-wool',\n",
       " 'map',\n",
       " 'milk',\n",
       " 'move',\n",
       " 'mushroom',\n",
       " 'mushroomstew',\n",
       " 'on',\n",
       " 'paper',\n",
       " 'pickaxe',\n",
       " 'place',\n",
       " 'place-on-map',\n",
       " 'placed',\n",
       " 'placed-thing-at-map',\n",
       " 'plank',\n",
       " 'player',\n",
       " 'player-at',\n",
       " 'red',\n",
       " 'red-mushroom',\n",
       " 'resource',\n",
       " 'resource-at-craft',\n",
       " 'sand',\n",
       " 'sandstone',\n",
       " 'seeds',\n",
       " 'shears',\n",
       " 'shovel',\n",
       " 'smelt',\n",
       " 'stairs',\n",
       " 'stick',\n",
       " 'stone',\n",
       " 'stone-stairs',\n",
       " 'stonebrick',\n",
       " 'stonebrick-stairs',\n",
       " 'string',\n",
       " 'sugar',\n",
       " 'sugarcane',\n",
       " 'tallgrass',\n",
       " 'thing',\n",
       " 'thing-at-map',\n",
       " 'tool',\n",
       " 'torch',\n",
       " 'wheat',\n",
       " 'wheatgrass',\n",
       " 'wood',\n",
       " 'wood-axe',\n",
       " 'wood-door',\n",
       " 'wood-hoe',\n",
       " 'wood-pickaxe',\n",
       " 'wood-shovel',\n",
       " 'wood-stairs',\n",
       " 'wool'}"
      ]
     },
     "execution_count": 57,
     "metadata": {},
     "output_type": "execute_result"
    }
   ],
   "source": [
    "new_vocab"
   ]
  },
  {
   "cell_type": "code",
   "execution_count": null,
   "metadata": {
    "collapsed": true
   },
   "outputs": [],
   "source": []
  }
 ],
 "metadata": {
  "kernelspec": {
   "display_name": "Python 2",
   "language": "python",
   "name": "python2"
  },
  "language_info": {
   "codemirror_mode": {
    "name": "ipython",
    "version": 2
   },
   "file_extension": ".py",
   "mimetype": "text/x-python",
   "name": "python",
   "nbconvert_exporter": "python",
   "pygments_lexer": "ipython2",
   "version": "2.7.10"
  }
 },
 "nbformat": 4,
 "nbformat_minor": 0
}
